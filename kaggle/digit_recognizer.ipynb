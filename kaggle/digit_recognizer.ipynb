{
 "cells": [
  {
   "cell_type": "markdown",
   "metadata": {
    "deletable": true,
    "editable": true
   },
   "source": [
    "# Digit Recognizer"
   ]
  },
  {
   "cell_type": "code",
   "execution_count": null,
   "metadata": {
    "collapsed": true
   },
   "outputs": [],
   "source": [
    "from pprint import pprint"
   ]
  },
  {
   "cell_type": "markdown",
   "metadata": {
    "deletable": true,
    "editable": true
   },
   "source": [
    "## Download the datasets"
   ]
  },
  {
   "cell_type": "markdown",
   "metadata": {
    "collapsed": false,
    "deletable": true,
    "editable": true
   },
   "source": [
    "The data should be downloaded from these links and placed in the `./datasets` folder, named as indicated:\n",
    "\n",
    "- [train.csv](https://www.kaggle.com/c/digit-recognizer/download/train.csv) | as `digit_train.csv`\n",
    "- [test.csv](https://www.kaggle.com/c/digit-recognizer/download/test.csv) | as `digit_test.csv`"
   ]
  },
  {
   "cell_type": "markdown",
   "metadata": {},
   "source": [
    "## Load the datasets"
   ]
  },
  {
   "cell_type": "code",
   "execution_count": null,
   "metadata": {
    "collapsed": false
   },
   "outputs": [],
   "source": [
    "import csv\n",
    "\n",
    "def get_batch(filename, n=100):\n",
    "    \"\"\"Return a batch of training data.\"\"\"\n",
    "    with open(filename, 'r') as csvfile:\n",
    "        next(csvfile) # Skip header\n",
    "        datareader = csv.reader(csvfile)\n",
    "        batch = list()\n",
    "        count = 0\n",
    "        for row in datareader:\n",
    "            if count < n:\n",
    "                batch.append(row)\n",
    "                count += 1\n",
    "            else:\n",
    "                yield batch\n",
    "                batch = [row]\n",
    "                count = 1\n",
    "    if count != 0:\n",
    "        yield batch\n",
    "        \n",
    "def train_batch(n=100):\n",
    "    return get_batch('./datasets/digit_train.csv', n)\n",
    "\n",
    "def test_batch(n=100):\n",
    "    return get_batch('./datasets/digit_test.csv', n)"
   ]
  },
  {
   "cell_type": "markdown",
   "metadata": {},
   "source": []
  }
 ],
 "metadata": {
  "kernelspec": {
   "display_name": "Python 3",
   "language": "python",
   "name": "python3"
  },
  "language_info": {
   "codemirror_mode": {
    "name": "ipython",
    "version": 3
   },
   "file_extension": ".py",
   "mimetype": "text/x-python",
   "name": "python",
   "nbconvert_exporter": "python",
   "pygments_lexer": "ipython3",
   "version": "3.5.2"
  },
  "toc": {
   "colors": {
    "hover_highlight": "#DAA520",
    "running_highlight": "#FF0000",
    "selected_highlight": "#FFD700"
   },
   "moveMenuLeft": true,
   "nav_menu": {
    "height": "66px",
    "width": "252px"
   },
   "navigate_menu": true,
   "number_sections": false,
   "sideBar": true,
   "threshold": 4,
   "toc_cell": false,
   "toc_section_display": "block",
   "toc_window_display": true
  }
 },
 "nbformat": 4,
 "nbformat_minor": 2
}
