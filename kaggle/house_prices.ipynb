{
 "cells": [
  {
   "cell_type": "markdown",
   "metadata": {
    "deletable": true,
    "editable": true
   },
   "source": [
    "# House prices"
   ]
  },
  {
   "cell_type": "markdown",
   "metadata": {
    "ExecuteTime": {
     "end_time": "2017-02-12T13:08:36.705971",
     "start_time": "2017-02-12T13:08:36.702280"
    },
    "deletable": true,
    "editable": true
   },
   "source": [
    "## Configuration variables"
   ]
  },
  {
   "cell_type": "code",
   "execution_count": 1,
   "metadata": {
    "ExecuteTime": {
     "end_time": "2017-02-12T16:40:45.863302",
     "start_time": "2017-02-12T16:40:45.859419"
    },
    "collapsed": false,
    "deletable": true,
    "editable": true
   },
   "outputs": [],
   "source": [
    "DATASETS_FOLDER = './datasets/'\n",
    "TRAIN_FILENAME = 'house_prices_train.csv'\n",
    "TEST_FILENAME = 'house_prices_test.csv'\n",
    "OUTPUT_FOLDER = './output/'"
   ]
  },
  {
   "cell_type": "markdown",
   "metadata": {
    "deletable": true,
    "editable": true
   },
   "source": [
    "## Prepare the notebook"
   ]
  },
  {
   "cell_type": "markdown",
   "metadata": {
    "deletable": true,
    "editable": true
   },
   "source": [
    "Enable some Jupyter magick:"
   ]
  },
  {
   "cell_type": "code",
   "execution_count": 2,
   "metadata": {
    "ExecuteTime": {
     "end_time": "2017-02-12T16:40:46.391876",
     "start_time": "2017-02-12T16:40:45.908158"
    },
    "collapsed": false,
    "deletable": true,
    "editable": true
   },
   "outputs": [
    {
     "name": "stdout",
     "output_type": "stream",
     "text": [
      "Populating the interactive namespace from numpy and matplotlib\n"
     ]
    }
   ],
   "source": [
    "%pylab inline"
   ]
  },
  {
   "cell_type": "markdown",
   "metadata": {
    "deletable": true,
    "editable": true
   },
   "source": [
    "Import scientific libraries:"
   ]
  },
  {
   "cell_type": "code",
   "execution_count": 3,
   "metadata": {
    "ExecuteTime": {
     "end_time": "2017-02-12T16:40:46.764806",
     "start_time": "2017-02-12T16:40:46.394307"
    },
    "collapsed": true,
    "deletable": true,
    "editable": true
   },
   "outputs": [],
   "source": [
    "import numpy as np\n",
    "import pandas as pd"
   ]
  },
  {
   "cell_type": "markdown",
   "metadata": {
    "deletable": true,
    "editable": true
   },
   "source": [
    "Useful functions:"
   ]
  },
  {
   "cell_type": "code",
   "execution_count": 4,
   "metadata": {
    "ExecuteTime": {
     "end_time": "2017-02-12T16:40:46.773706",
     "start_time": "2017-02-12T16:40:46.767255"
    },
    "collapsed": true,
    "deletable": true,
    "editable": true
   },
   "outputs": [],
   "source": [
    "def save_predictions(name, preds):\n",
    "    filename = 'house_prices_{}.csv'.format(name)\n",
    "    with open(os.path.join(OUTPUT_FOLDER, filename), 'w') as f:\n",
    "        print(\"Id,SalePrice\", file=f)\n",
    "        for i, p in preds:\n",
    "            print('{:d},{:f}'.format(i, p), file=f)"
   ]
  },
  {
   "cell_type": "markdown",
   "metadata": {
    "deletable": true,
    "editable": true
   },
   "source": [
    "## Load the data"
   ]
  },
  {
   "cell_type": "markdown",
   "metadata": {
    "ExecuteTime": {
     "end_time": "2017-02-12T13:03:44.273443",
     "start_time": "2017-02-12T13:03:44.268954"
    },
    "deletable": true,
    "editable": true,
    "variables": {
     "DATASETS_FOLDER": "./datasets/",
     "TEST_FILENAME": "house_prices_test.csv",
     "TRAIN_FILENAME": "house_prices_train.csv"
    }
   },
   "source": [
    "The data should be downloaded from the followink links and placed in `{{DATASETS_FOLDER}}` with the indicated name:\n",
    "\n",
    "- [{{TRAIN_FILENAME}}](https://www.kaggle.com/c/house-prices-advanced-regression-techniques/download/train.csv)\n",
    "- [{{TEST_FILENAME}}](https://www.kaggle.com/c/house-prices-advanced-regression-techniques/download/test.csv)"
   ]
  },
  {
   "cell_type": "markdown",
   "metadata": {
    "deletable": true,
    "editable": true
   },
   "source": [
    " Read the CSV files:"
   ]
  },
  {
   "cell_type": "code",
   "execution_count": 5,
   "metadata": {
    "ExecuteTime": {
     "end_time": "2017-02-12T16:40:46.891028",
     "start_time": "2017-02-12T16:40:46.792798"
    },
    "collapsed": true,
    "deletable": true,
    "editable": true
   },
   "outputs": [],
   "source": [
    "import os\n",
    "\n",
    "train_csv = pd.read_csv(os.path.join(DATASETS_FOLDER, TRAIN_FILENAME))\n",
    "test_csv = pd.read_csv(os.path.join(DATASETS_FOLDER, TEST_FILENAME))\n",
    "all_csv = pd.concat([train_csv, test_csv])"
   ]
  },
  {
   "cell_type": "markdown",
   "metadata": {
    "deletable": true,
    "editable": true
   },
   "source": [
    "Create a dataframe with all the data:"
   ]
  },
  {
   "cell_type": "code",
   "execution_count": 6,
   "metadata": {
    "ExecuteTime": {
     "end_time": "2017-02-12T16:40:46.902979",
     "start_time": "2017-02-12T16:40:46.893377"
    },
    "collapsed": true,
    "deletable": true,
    "editable": true
   },
   "outputs": [],
   "source": [
    "train = train_csv.copy()\n",
    "test = test_csv.copy()\n",
    "data = all_csv.copy()"
   ]
  },
  {
   "cell_type": "markdown",
   "metadata": {
    "deletable": true,
    "editable": true
   },
   "source": [
    "Prepare a function to re-split train and test data after the preprocessing:"
   ]
  },
  {
   "cell_type": "code",
   "execution_count": 7,
   "metadata": {
    "ExecuteTime": {
     "end_time": "2017-02-12T16:40:46.911322",
     "start_time": "2017-02-12T16:40:46.904824"
    },
    "collapsed": true,
    "deletable": true,
    "editable": true
   },
   "outputs": [],
   "source": [
    "def split_train_test(df):\n",
    "    train = df[~pd.isnull(df['SalePrice'])]\n",
    "    train_labels = train['SalePrice'].ravel()\n",
    "    train_data = train.drop('SalePrice', axis=1).as_matrix()\n",
    "    test_data = df[pd.isnull(df['SalePrice'])].drop('SalePrice', axis=1).as_matrix()\n",
    "    return train_data, train_labels, test_data"
   ]
  },
  {
   "cell_type": "markdown",
   "metadata": {
    "ExecuteTime": {
     "end_time": "2017-02-12T13:01:11.784062",
     "start_time": "2017-02-12T13:01:11.781100"
    },
    "deletable": true,
    "editable": true
   },
   "source": [
    "## Explore the data"
   ]
  },
  {
   "cell_type": "markdown",
   "metadata": {
    "deletable": true,
    "editable": true
   },
   "source": [
    "Length of the data:"
   ]
  },
  {
   "cell_type": "code",
   "execution_count": 8,
   "metadata": {
    "ExecuteTime": {
     "end_time": "2017-02-12T16:40:46.920008",
     "start_time": "2017-02-12T16:40:46.914157"
    },
    "collapsed": false,
    "deletable": true,
    "editable": true
   },
   "outputs": [
    {
     "name": "stdout",
     "output_type": "stream",
     "text": [
      "Train set: 1460\n",
      "Test set: 1459\n"
     ]
    }
   ],
   "source": [
    "print(\"Train set: {}\".format(len(train)))\n",
    "print(\"Test set: {}\".format(len(test)))"
   ]
  },
  {
   "cell_type": "markdown",
   "metadata": {
    "deletable": true,
    "editable": true
   },
   "source": [
    "## Data preprocessing"
   ]
  },
  {
   "cell_type": "code",
   "execution_count": 152,
   "metadata": {
    "ExecuteTime": {
     "end_time": "2017-02-12T20:09:01.521399",
     "start_time": "2017-02-12T20:09:00.901585"
    },
    "collapsed": false,
    "deletable": true,
    "editable": true
   },
   "outputs": [],
   "source": [
    "from sklearn.preprocessing import Imputer, LabelEncoder\n",
    "\n",
    "data = all_csv.copy()\n",
    "\n",
    "# columns_types = data.columns.to_series().groupby(data.dtypes).groups\n",
    "\n",
    "cat_columns = ['Alley', 'BldgType', 'BsmtCond', 'BsmtExposure', 'BsmtFinType1', 'BsmtFinType2',\n",
    "'BsmtQual', 'CentralAir', 'Condition1', 'Condition2', 'Electrical', 'ExterCond',\n",
    "'ExterQual', 'Exterior1st', 'Exterior2nd', 'Fence', 'FireplaceQu', 'Foundation',\n",
    "'Functional', 'GarageCond', 'GarageFinish', 'GarageQual', 'GarageType',\n",
    "'Heating', 'HeatingQC', 'HouseStyle', 'KitchenQual', 'LandContour', 'LandSlope',\n",
    "'LotConfig', 'LotShape', 'MSSubClass', 'MSZoning', 'MasVnrType', 'MiscFeature',\n",
    "'MoSold', 'Neighborhood', 'PavedDrive', 'PoolQC', 'RoofMatl', 'RoofStyle',\n",
    "'SaleCondition', 'SaleType', 'Street', 'Utilities']\n",
    "\n",
    "lin_columns = ['BsmtUnfSF', '1stFlrSF', '2ndFlrSF', '3SsnPorch', 'BedroomAbvGr', 'BsmtFinSF1',\n",
    "'BsmtFinSF2', 'BsmtFullBath', 'BsmtHalfBath', 'EnclosedPorch', 'Fireplaces',\n",
    "'FullBath', 'GarageArea', 'GarageCars', 'GarageYrBlt', 'GrLivArea', 'HalfBath',\n",
    "'KitchenAbvGr', 'LotArea', 'LotFrontage', 'LowQualFinSF', 'MasVnrArea', 'MiscVal',\n",
    "'OpenPorchSF', 'OverallCond', 'OverallQual', 'PoolArea', 'ScreenPorch',\n",
    "'TotRmsAbvGrd', 'TotalBsmtSF', 'WoodDeckSF', 'YearBuilt', 'YearRemodAdd',\n",
    "'YrSold']\n",
    "\n",
    "for column in cat_columns:\n",
    "    data[column].fillna('NAN')\n",
    "    onehot = pd.get_dummies(data[column])\n",
    "    data = pd.concat([data, onehot], axis=1, join_axes=[data.index])\n",
    "    data.drop(column, axis=1, inplace=True)\n",
    "    \n",
    "for column in lin_columns:\n",
    "    data[column] = data[column].fillna(data[column].mean())"
   ]
  },
  {
   "cell_type": "markdown",
   "metadata": {
    "ExecuteTime": {
     "end_time": "2017-02-12T13:01:38.967777",
     "start_time": "2017-02-12T13:01:38.965482"
    },
    "deletable": true,
    "editable": true
   },
   "source": [
    "## Build the Model"
   ]
  },
  {
   "cell_type": "markdown",
   "metadata": {
    "deletable": true,
    "editable": true
   },
   "source": [
    "Split train/test data and labels:"
   ]
  },
  {
   "cell_type": "code",
   "execution_count": 153,
   "metadata": {
    "ExecuteTime": {
     "end_time": "2017-02-12T20:09:01.909453",
     "start_time": "2017-02-12T20:09:01.890972"
    },
    "collapsed": false,
    "deletable": true,
    "editable": true
   },
   "outputs": [],
   "source": [
    "train_data, train_labels, test_data = split_train_test(data)"
   ]
  },
  {
   "cell_type": "markdown",
   "metadata": {
    "deletable": true,
    "editable": true
   },
   "source": [
    "Prepare the loss function as in kaggle:"
   ]
  },
  {
   "cell_type": "code",
   "execution_count": 216,
   "metadata": {
    "ExecuteTime": {
     "end_time": "2017-02-12T21:02:05.216026",
     "start_time": "2017-02-12T21:02:05.210578"
    },
    "collapsed": true,
    "deletable": true,
    "editable": true
   },
   "outputs": [],
   "source": [
    "from sklearn.metrics import mean_squared_error\n",
    "def scorer(model, X, y):\n",
    "    preds = np.abs(model.predict(X))\n",
    "    return sqrt(mean_squared_error(np.log(preds), np.log(y)))"
   ]
  },
  {
   "cell_type": "code",
   "execution_count": null,
   "metadata": {
    "ExecuteTime": {
     "start_time": "2017-02-12T20:26:23.934Z"
    },
    "collapsed": false,
    "deletable": true,
    "editable": true
   },
   "outputs": [],
   "source": [
    "from sklearn.ensemble import ExtraTreesRegressor\n",
    "from sklearn.model_selection import GridSearchCV, KFold\n",
    "\n",
    "params = {\n",
    "    'n_estimators': [5, 10, 20],\n",
    "    'criterion': ['mse', 'mae'],\n",
    "    'max_features': ['auto', 'sqrt', 'log2'],\n",
    "}\n",
    "\n",
    "grid_search = GridSearchCV(ExtraTreesRegressor(), param_grid=params, cv=10, scoring=scorer)\n",
    "grid_search.fit(train_data, train_labels)\n",
    "\n",
    "print('Best score: {}'.format(grid_search.best_score_))\n",
    "print('Best parameters: {}'.format(grid_search.best_params_))"
   ]
  },
  {
   "cell_type": "markdown",
   "metadata": {
    "deletable": true,
    "editable": true
   },
   "source": [
    "Extract and train the best classifier found:"
   ]
  },
  {
   "cell_type": "code",
   "execution_count": 218,
   "metadata": {
    "ExecuteTime": {
     "end_time": "2017-02-12T21:02:10.596240",
     "start_time": "2017-02-12T21:02:10.072696"
    },
    "collapsed": false,
    "deletable": true,
    "editable": true
   },
   "outputs": [
    {
     "data": {
      "text/plain": [
       "ExtraTreesRegressor(bootstrap=False, criterion='mse', max_depth=None,\n",
       "          max_features='auto', max_leaf_nodes=None,\n",
       "          min_impurity_split=1e-07, min_samples_leaf=1,\n",
       "          min_samples_split=2, min_weight_fraction_leaf=0.0,\n",
       "          n_estimators=10, n_jobs=1, oob_score=False, random_state=None,\n",
       "          verbose=0, warm_start=False)"
      ]
     },
     "execution_count": 218,
     "metadata": {},
     "output_type": "execute_result"
    }
   ],
   "source": [
    "from sklearn.base import clone\n",
    "\n",
    "model = grid_search.best_estimator_\n",
    "model = clone(model)\n",
    "model.fit(train_data, train_labels)"
   ]
  },
  {
   "cell_type": "markdown",
   "metadata": {
    "deletable": true,
    "editable": true
   },
   "source": [
    "### Neural network"
   ]
  },
  {
   "cell_type": "code",
   "execution_count": 212,
   "metadata": {
    "ExecuteTime": {
     "end_time": "2017-02-12T21:01:39.882963",
     "start_time": "2017-02-12T21:01:39.827061"
    },
    "collapsed": false,
    "deletable": true,
    "editable": true
   },
   "outputs": [],
   "source": [
    "import tensorflow as tf\n",
    "from keras import backend as K\n",
    "\n",
    "sess = tf.InteractiveSession()\n",
    "K.set_session(sess)"
   ]
  },
  {
   "cell_type": "code",
   "execution_count": 213,
   "metadata": {
    "ExecuteTime": {
     "end_time": "2017-02-12T21:01:40.031934",
     "start_time": "2017-02-12T21:01:40.013404"
    },
    "collapsed": false,
    "deletable": true,
    "editable": true
   },
   "outputs": [],
   "source": [
    "from sklearn.model_selection import train_test_split\n",
    "\n",
    "X, V, y_, yv_ = train_test_split(train_data, train_labels, test_size=0.2)"
   ]
  },
  {
   "cell_type": "code",
   "execution_count": 219,
   "metadata": {
    "ExecuteTime": {
     "end_time": "2017-02-12T21:02:33.936073",
     "start_time": "2017-02-12T21:02:11.259240"
    },
    "collapsed": true
   },
   "outputs": [],
   "source": [
    "%%capture\n",
    "from keras.models import Sequential\n",
    "from keras.optimizers import RMSprop\n",
    "from keras.layers.core import Dense, Activation, Dropout\n",
    "from keras.layers.normalization import BatchNormalization\n",
    "\n",
    "model = Sequential()\n",
    "model.add(BatchNormalization(input_shape=(315,)))\n",
    "model.add(Dense(512))\n",
    "model.add(BatchNormalization())\n",
    "model.add(Dense(128))\n",
    "model.add(Dense(1))\n",
    "model.add(Activation('relu'))\n",
    "model.summary()\n",
    "\n",
    "def lrmse(y, y_):\n",
    "    return tf.sqrt(tf.reduce_mean(tf.square(tf.sub(tf.log(y+e),tf.log(y_+e)))))\n",
    "\n",
    "model.compile(optimizer=RMSprop(0.1), loss='msle', metrics=[lrmse])\n",
    "\n",
    "with tf.device('/gpu:0'):\n",
    "    model.fit(X, y_, validation_data=(V, yv_), nb_epoch=30)"
   ]
  },
  {
   "cell_type": "code",
   "execution_count": 220,
   "metadata": {
    "ExecuteTime": {
     "end_time": "2017-02-12T21:02:36.129724",
     "start_time": "2017-02-12T21:02:33.939334"
    },
    "collapsed": false
   },
   "outputs": [
    {
     "name": "stdout",
     "output_type": "stream",
     "text": [
      "0.225081043953\n"
     ]
    }
   ],
   "source": [
    "with tf.device('/gpu:0'):\n",
    "    preds = np.abs(model.predict(V))\n",
    "    print(sqrt(mean_squared_error(np.log(preds.ravel() + 1e-50), np.log(yv_))))"
   ]
  },
  {
   "cell_type": "code",
   "execution_count": 191,
   "metadata": {
    "ExecuteTime": {
     "end_time": "2017-02-12T20:28:29.348066",
     "start_time": "2017-02-12T20:28:24.118242"
    },
    "collapsed": true
   },
   "outputs": [],
   "source": [
    "%%capture\n",
    "with tf.device('/gpu:0'):\n",
    "    model.fit(V, yv_, nb_epoch=30)"
   ]
  },
  {
   "cell_type": "markdown",
   "metadata": {
    "ExecuteTime": {
     "end_time": "2017-02-12T13:02:24.271748",
     "start_time": "2017-02-12T13:02:24.268941"
    },
    "deletable": true,
    "editable": true
   },
   "source": [
    "## Predictions on test data"
   ]
  },
  {
   "cell_type": "markdown",
   "metadata": {
    "deletable": true,
    "editable": true
   },
   "source": [
    "Make the predictions:"
   ]
  },
  {
   "cell_type": "code",
   "execution_count": 163,
   "metadata": {
    "ExecuteTime": {
     "end_time": "2017-02-12T20:10:55.837851",
     "start_time": "2017-02-12T20:10:55.724606"
    },
    "collapsed": false,
    "deletable": true,
    "editable": true
   },
   "outputs": [],
   "source": [
    "preds = model.predict(test_data)\n",
    "preds = preds.ravel()"
   ]
  },
  {
   "cell_type": "markdown",
   "metadata": {
    "deletable": true,
    "editable": true
   },
   "source": [
    "Save predictions to a file:"
   ]
  },
  {
   "cell_type": "code",
   "execution_count": 164,
   "metadata": {
    "ExecuteTime": {
     "end_time": "2017-02-12T20:10:57.094939",
     "start_time": "2017-02-12T20:10:57.084622"
    },
    "collapsed": false,
    "deletable": true,
    "editable": true
   },
   "outputs": [],
   "source": [
    "import time\n",
    "from datetime import datetime\n",
    "\n",
    "ctime = datetime.now().strftime('%Y-%m-%d_%H:%M:%S')\n",
    "save_predictions(ctime, zip(test_csv['Id'], preds))"
   ]
  },
  {
   "cell_type": "code",
   "execution_count": null,
   "metadata": {
    "collapsed": true
   },
   "outputs": [],
   "source": []
  }
 ],
 "metadata": {
  "kernelspec": {
   "display_name": "Python 3",
   "language": "python",
   "name": "python3"
  },
  "language_info": {
   "codemirror_mode": {
    "name": "ipython",
    "version": 3
   },
   "file_extension": ".py",
   "mimetype": "text/x-python",
   "name": "python",
   "nbconvert_exporter": "python",
   "pygments_lexer": "ipython3",
   "version": "3.5.2"
  },
  "toc": {
   "colors": {
    "hover_highlight": "#DAA520",
    "running_highlight": "#FF0000",
    "selected_highlight": "#FFD700"
   },
   "moveMenuLeft": true,
   "nav_menu": {
    "height": "159px",
    "width": "252px"
   },
   "navigate_menu": true,
   "number_sections": true,
   "sideBar": true,
   "threshold": 4,
   "toc_cell": false,
   "toc_section_display": "block",
   "toc_window_display": true
  }
 },
 "nbformat": 4,
 "nbformat_minor": 2
}
