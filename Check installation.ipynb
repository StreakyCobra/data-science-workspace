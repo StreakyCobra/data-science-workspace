{
 "cells": [
  {
   "cell_type": "markdown",
   "metadata": {
    "deletable": true,
    "editable": true
   },
   "source": [
    "# Check installation"
   ]
  },
  {
   "cell_type": "markdown",
   "metadata": {},
   "source": [
    "This notebook contains cells that test if your installation of `tensorflow` is working. You can run the entire page by using the menu:\n",
    "\n",
    "<div style=\"margin-left: 4em; margin-top: 1em;\"><kbd>Cell</kbd> » <kbd>Run All</kbd></div>\n",
    "\n",
    "Then check every:\n",
    "\n",
    "<div style=\"color: red; border-top: solid 1px; width: 50%; margin-top: 2em; margin-left: 4em;\">Check:</div>\n",
    "\n",
    "section of this page to see if the output is correct."
   ]
  },
  {
   "cell_type": "markdown",
   "metadata": {
    "deletable": true,
    "editable": true
   },
   "source": [
    "## Tensorflow\n",
    "Check if `tensorflow` is set-up properly by running the program provided on [TensorFlow's Get Started page](https://www.tensorflow.org/get_started/):"
   ]
  },
  {
   "cell_type": "code",
   "execution_count": null,
   "metadata": {
    "collapsed": false,
    "deletable": true,
    "editable": true
   },
   "outputs": [],
   "source": [
    "import tensorflow as tf\n",
    "import numpy as np\n",
    "\n",
    "# Create 100 phony x, y data points in NumPy, y = x * 0.1 + 0.3\n",
    "x_data = np.random.rand(100).astype(np.float32)\n",
    "y_data = x_data * 0.1 + 0.3\n",
    "\n",
    "# Try to find values for W and b that compute y_data = W * x_data + b\n",
    "# (We know that W should be 0.1 and b 0.3, but TensorFlow will\n",
    "# figure that out for us.)\n",
    "W = tf.Variable(tf.random_uniform([1], -1.0, 1.0))\n",
    "b = tf.Variable(tf.zeros([1]))\n",
    "y = W * x_data + b\n",
    "\n",
    "# Minimize the mean squared errors.\n",
    "loss = tf.reduce_mean(tf.square(y - y_data))\n",
    "optimizer = tf.train.GradientDescentOptimizer(0.5)\n",
    "train = optimizer.minimize(loss)\n",
    "\n",
    "# Before starting, initialize the variables.  We will 'run' this first.\n",
    "init = tf.global_variables_initializer()\n",
    "\n",
    "# Launch the graph.\n",
    "sess = tf.Session()\n",
    "sess.run(init)\n",
    "\n",
    "# Fit the line.\n",
    "for step in range(201):\n",
    "    sess.run(train)\n",
    "    if step % 20 == 0:\n",
    "        print(step, sess.run(W), sess.run(b))\n",
    "\n",
    "# Learns best fit is W: [0.1], b: [0.3]"
   ]
  },
  {
   "cell_type": "markdown",
   "metadata": {},
   "source": [
    "<div style=\"color: red; border-top: solid 1px;\">Check:</div>\n",
    "\n",
    "If the output ends with something like:\n",
    "\n",
    "    200 [ 0.10000037] [ 0.2999998]\n",
    "    \n",
    "Then your installation is working. If nothing is outputed or an error is generated, then there is a problem with your installation."
   ]
  },
  {
   "cell_type": "markdown",
   "metadata": {
    "deletable": true,
    "editable": true
   },
   "source": [
    "## GPU\n",
    "\n",
    "Check is tensorflow is using the GPU with the method provided on [this StackOverflow question](http://stackoverflow.com/questions/38559755/how-to-get-current-available-gpus-in-tensorflow):"
   ]
  },
  {
   "cell_type": "code",
   "execution_count": null,
   "metadata": {
    "collapsed": false,
    "deletable": true,
    "editable": true
   },
   "outputs": [],
   "source": [
    "from tensorflow.python.client import device_lib\n",
    "\n",
    "def get_available_gpus():\n",
    "    local_device_protos = device_lib.list_local_devices()\n",
    "    return [x.name for x in local_device_protos if x.device_type == 'GPU']\n",
    "\n",
    "get_available_gpus()"
   ]
  },
  {
   "cell_type": "markdown",
   "metadata": {},
   "source": [
    "<div style=\"color: red; border-top: solid 1px;\">Check:</div>\n",
    "\n",
    "If the previous output looks something like:\n",
    "\n",
    "    ['/gpu:0']\n",
    "\n",
    "the GPU card is detected and (should hopefuly) be working. If the output is an empty array as in:\n",
    "\n",
    "    []\n",
    "    \n",
    "then the GPU card is not recognized/used.\n",
    "\n",
    "If you are on linux with `optimus`, be sure to read the [`README.md`](./README.md) for how to make Jupyter use a kernel with GPU support. When done, be sure to check that the correct kernel is used in this notebook:\n",
    "\n",
    "<div style=\"margin-left: 4em; margin-top: 1em;\"><kbd>Kernel</kbd> » <kbd>Change Kernel</kbd> » <kbd>…</kbd></div>\n",
    "\n",
    "And try this page again."
   ]
  }
 ],
 "metadata": {
  "kernelspec": {
   "display_name": "Python 3 GPU",
   "language": "python",
   "name": "python3-gpu"
  },
  "language_info": {
   "codemirror_mode": {
    "name": "ipython",
    "version": 3
   },
   "file_extension": ".py",
   "mimetype": "text/x-python",
   "name": "python",
   "nbconvert_exporter": "python",
   "pygments_lexer": "ipython3",
   "version": "3.5.2"
  }
 },
 "nbformat": 4,
 "nbformat_minor": 2
}
