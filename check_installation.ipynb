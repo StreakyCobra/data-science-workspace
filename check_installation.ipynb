{
 "cells": [
  {
   "cell_type": "markdown",
   "metadata": {},
   "source": [
    "# Check installation"
   ]
  },
  {
   "cell_type": "markdown",
   "metadata": {},
   "source": [
    "This notebook contains cells to test if your installation is working. You can run the entire page by using the menu:\n",
    "\n",
    "<div style=\"margin-left: 4em; margin-top: 1em;\"><kbd>Cell</kbd> » <kbd>Run All</kbd></div>\n",
    "\n",
    "Then check every:\n",
    "\n",
    "<div style=\"color: red; border-top: solid 1px; width: 50%; margin-top: 2em; margin-left: 4em;\">Check:</div>\n",
    "\n",
    "sections of this page to see if the output is correct."
   ]
  },
  {
   "cell_type": "markdown",
   "metadata": {},
   "source": [
    "## Check for GPU"
   ]
  },
  {
   "cell_type": "code",
   "execution_count": null,
   "metadata": {
    "ExecuteTime": {
     "end_time": "2020-02-29T18:02:43.453072Z",
     "start_time": "2020-02-29T18:02:43.441710Z"
    }
   },
   "outputs": [],
   "source": [
    "import tensorflow as tf\n",
    "\n",
    "tf.config.experimental.list_physical_devices('GPU')"
   ]
  },
  {
   "cell_type": "markdown",
   "metadata": {},
   "source": [
    "<div style=\"color: red; border-top: solid 1px;\">Check:</div>\n",
    "\n",
    "The output should show a non-empty list, like for instance:\n",
    "\n",
    "    [PhysicalDevice(name='/physical_device:GPU:0', device_type='GPU')]"
   ]
  },
  {
   "cell_type": "markdown",
   "metadata": {},
   "source": [
    "## Tensorflow"
   ]
  },
  {
   "cell_type": "code",
   "execution_count": null,
   "metadata": {},
   "outputs": [],
   "source": [
    "import tensorflow as tf\n",
    "import numpy as np\n",
    "\n",
    "def tensorflow_gradient_descent():\n",
    "    x_data = np.random.rand(10_000).astype(np.float32)\n",
    "    y_data = x_data * 0.1 + 0.3\n",
    "\n",
    "    layer = tf.keras.layers.Dense(1)\n",
    "    model = tf.keras.models.Sequential([layer])\n",
    "\n",
    "    sgd = tf.keras.optimizers.SGD(0.5)\n",
    "    model.compile(loss='mean_squared_error', optimizer=sgd)\n",
    "    model.fit(x_data, y_data)\n",
    "\n",
    "    weights = layer.get_weights()\n",
    "    return weights[0][0][0], weights[1][0]"
   ]
  },
  {
   "cell_type": "markdown",
   "metadata": {},
   "source": [
    "### CPU"
   ]
  },
  {
   "cell_type": "code",
   "execution_count": null,
   "metadata": {
    "ExecuteTime": {
     "end_time": "2020-02-29T18:01:45.504088Z",
     "start_time": "2020-02-29T18:01:41.878825Z"
    },
    "run_control": {
     "marked": false
    }
   },
   "outputs": [],
   "source": [
    "with tf.device('/cpu:0'):\n",
    "    print(tensorflow_gradient_descent())"
   ]
  },
  {
   "cell_type": "markdown",
   "metadata": {},
   "source": [
    "<div style=\"color: red; border-top: solid 1px;\">Check:</div>\n",
    "\n",
    "The output should end with values close to:\n",
    "\n",
    "    (0.1, 0.3)\n"
   ]
  },
  {
   "cell_type": "markdown",
   "metadata": {},
   "source": [
    "### GPU"
   ]
  },
  {
   "cell_type": "code",
   "execution_count": null,
   "metadata": {
    "ExecuteTime": {
     "end_time": "2020-02-29T18:01:45.504088Z",
     "start_time": "2020-02-29T18:01:41.878825Z"
    },
    "run_control": {
     "marked": false
    }
   },
   "outputs": [],
   "source": [
    "with tf.device('/gpu:0'):\n",
    "    print(tensorflow_gradient_descent())"
   ]
  },
  {
   "cell_type": "markdown",
   "metadata": {},
   "source": [
    "<div style=\"color: red; border-top: solid 1px;\">Check:</div>\n",
    "\n",
    "The output should end with values close to:\n",
    "\n",
    "    (0.1, 0.3)\n"
   ]
  },
  {
   "cell_type": "markdown",
   "metadata": {},
   "source": [
    "## Spark"
   ]
  },
  {
   "cell_type": "code",
   "execution_count": null,
   "metadata": {
    "ExecuteTime": {
     "end_time": "2020-02-25T13:26:39.570275Z",
     "start_time": "2020-02-25T13:26:36.711372Z"
    },
    "run_control": {
     "marked": false
    },
    "scrolled": false
   },
   "outputs": [],
   "source": [
    "import findspark\n",
    "findspark.init()\n",
    "\n",
    "import pyspark\n",
    "import random\n",
    "\n",
    "sc = pyspark.SparkContext.getOrCreate()\n",
    "num_samples = 100_000_000\n",
    "\n",
    "def inside(p):     \n",
    "  x, y = random.random(), random.random()\n",
    "  return x*x + y*y < 1\n",
    "\n",
    "count = sc.parallelize(range(0, num_samples)).filter(inside).count()\n",
    "pi = 4 * count / num_samples\n",
    "\n",
    "print(pi)\n",
    "sc.stop()"
   ]
  },
  {
   "cell_type": "markdown",
   "metadata": {},
   "source": [
    "<div style=\"color: red; border-top: solid 1px;\">Check:</div>\n",
    "\n",
    "The output should show a number close to:\n",
    "\n",
    "    3.14"
   ]
  }
 ],
 "metadata": {
  "kernelspec": {
   "display_name": "Python 3 GPU",
   "language": "python",
   "name": "python3-gpu"
  },
  "language_info": {
   "codemirror_mode": {
    "name": "ipython",
    "version": 3
   },
   "file_extension": ".py",
   "mimetype": "text/x-python",
   "name": "python",
   "nbconvert_exporter": "python",
   "pygments_lexer": "ipython3",
   "version": "3.7.4"
  },
  "toc": {
   "base_numbering": 1,
   "nav_menu": {
    "height": "66px",
    "width": "252px"
   },
   "number_sections": true,
   "sideBar": true,
   "skip_h1_title": false,
   "title_cell": "Table of Contents",
   "title_sidebar": "Contents",
   "toc_cell": false,
   "toc_position": {},
   "toc_section_display": "block",
   "toc_window_display": true
  }
 },
 "nbformat": 4,
 "nbformat_minor": 2
}
